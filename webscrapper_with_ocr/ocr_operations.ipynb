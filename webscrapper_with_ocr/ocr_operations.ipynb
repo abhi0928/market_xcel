{
 "cells": [
  {
   "cell_type": "code",
   "execution_count": 1,
   "metadata": {},
   "outputs": [],
   "source": [
    "from ocr import BEEStarLabelOCR"
   ]
  },
  {
   "cell_type": "code",
   "execution_count": 1,
   "metadata": {},
   "outputs": [],
   "source": [
    "import os\n",
    "import torch\n",
    "import cv2\n",
    "from glob import glob\n",
    "import numpy as np\n",
    "import pandas as pd\n",
    "from tqdm import tqdm\n",
    "\n",
    "pd.set_option('display.max_columns', None)\n",
    "\n",
    "import warnings\n",
    "warnings.filterwarnings('ignore')\n",
    "from time import sleep"
   ]
  },
  {
   "cell_type": "code",
   "execution_count": 2,
   "metadata": {},
   "outputs": [
    {
     "name": "stderr",
     "output_type": "stream",
     "text": [
      "Using cache found in /Users/abhishekomi/.cache/torch/hub/ultralytics_yolov5_master\n",
      "YOLOv5 🚀 2023-6-14 Python-3.8.16 torch-2.0.0 MPS\n",
      "\n",
      "Fusing layers... \n",
      "Model summary: 212 layers, 20852934 parameters, 0 gradients, 47.9 GFLOPs\n",
      "Adding AutoShape... \n",
      "Using cache found in /Users/abhishekomi/.cache/torch/hub/ultralytics_yolov5_master\n",
      "YOLOv5 🚀 2023-6-14 Python-3.8.16 torch-2.0.0 MPS\n",
      "\n",
      "Fusing layers... \n",
      "Model summary: 212 layers, 20852934 parameters, 0 gradients, 47.9 GFLOPs\n",
      "Adding AutoShape... \n"
     ]
    }
   ],
   "source": [
    "model1 = torch.hub.load('ultralytics/yolov5', 'custom', path = 'star_label.pt', device = 'mps')\n",
    "model1.conf = 0.45\n",
    "\n",
    "model2 = torch.hub.load('ultralytics/yolov5', 'custom', path = 'star_label2.pt', device = 'mps')\n",
    "model2.conf = 0.15"
   ]
  },
  {
   "cell_type": "code",
   "execution_count": 3,
   "metadata": {},
   "outputs": [],
   "source": [
    "def detect_bee_image(img_path : str):\n",
    "    def calculate_area(x1, y1, x2, y2):\n",
    "        w = int(x2 - x1)\n",
    "        h = int(y2 - y1)\n",
    "        area = w * h\n",
    "        return area\n",
    "\n",
    "    result1 = model1(img_path)\n",
    "    result2 = model2(img_path)\n",
    "    out1 = result1.pandas().xyxy[0]\n",
    "    out2 = result2.pandas().xyxy[0]\n",
    "    if (out1.shape[0] > 0) or (out2.shape[0] > 0):\n",
    "        return True\n",
    "    else:\n",
    "        return False"
   ]
  },
  {
   "cell_type": "code",
   "execution_count": 4,
   "metadata": {},
   "outputs": [
    {
     "data": {
      "text/plain": [
       "['.DS_Store',\n",
       " 'Colour_TV',\n",
       " 'Refrigerator_frost_free',\n",
       " 'LED_lamps',\n",
       " 'Ceiling_fan',\n",
       " 'AC_variable_speed',\n",
       " 'AC_fixed_speed',\n",
       " 'tabular_florescent_lamps',\n",
       " 'Refrigerator_direct_cool',\n",
       " 'Electric_water_heater']"
      ]
     },
     "execution_count": 4,
     "metadata": {},
     "output_type": "execute_result"
    }
   ],
   "source": [
    "reports_path = 'reports_new2/'\n",
    "os.listdir(reports_path)"
   ]
  },
  {
   "cell_type": "code",
   "execution_count": 5,
   "metadata": {},
   "outputs": [
    {
     "name": "stdout",
     "output_type": "stream",
     "text": [
      "total data points :  12\n"
     ]
    }
   ],
   "source": [
    "# working on ac_variable_speed\n",
    "working_path = reports_path + 'tabular_florescent_lamps/'\n",
    "data_points = glob(working_path + '/croma/images/*')\n",
    "print(\"total data points : \", len(data_points))"
   ]
  },
  {
   "cell_type": "code",
   "execution_count": null,
   "metadata": {},
   "outputs": [],
   "source": []
  },
  {
   "cell_type": "code",
   "execution_count": 6,
   "metadata": {},
   "outputs": [],
   "source": [
    "data = pd.read_csv(working_path + '/croma/tfl_report.csv')"
   ]
  },
  {
   "cell_type": "code",
   "execution_count": 7,
   "metadata": {},
   "outputs": [
    {
     "data": {
      "text/html": [
       "<div>\n",
       "<style scoped>\n",
       "    .dataframe tbody tr th:only-of-type {\n",
       "        vertical-align: middle;\n",
       "    }\n",
       "\n",
       "    .dataframe tbody tr th {\n",
       "        vertical-align: top;\n",
       "    }\n",
       "\n",
       "    .dataframe thead th {\n",
       "        text-align: right;\n",
       "    }\n",
       "</style>\n",
       "<table border=\"1\" class=\"dataframe\">\n",
       "  <thead>\n",
       "    <tr style=\"text-align: right;\">\n",
       "      <th></th>\n",
       "      <th>Sno</th>\n",
       "      <th>Website</th>\n",
       "      <th>Website type</th>\n",
       "      <th>Appliance</th>\n",
       "      <th>Brand</th>\n",
       "      <th>...</th>\n",
       "      <th>What is the EE parameter mentioned in the Product Description or About or Overview section in the product page?\\n\\nReliance - Description , Amazon - From The manufacturer , Croma - Overview , Snapdeal - Description , Flipkart - Product Description</th>\n",
       "      <th>Is Star Rating provided in the Product Information table?\\n(Yes/No)\\n\\nReliance - Specifications , Amazon - Product information , Croma - Specifications , Snapdeal - Other Specifications  , Flipkart - Specifications</th>\n",
       "      <th>What is the Star Rating provided in the Product Information table?\\n\\nReliance - Specifications , Amazon - Product information , Croma - Specifications , Snapdeal - Other Specifications  , Flipkart - Specifications</th>\n",
       "      <th>Is EE parameter and its value mentioned in the Product Information table?\\n(Yes/No)\\n\\nReliance - Specifications , Amazon - Product information , Croma - Specifications , Snapdeal - Other Specifications  , Flipkart - Specifications</th>\n",
       "      <th>What is the EE parameter and its value mentioned in the Product Information table?\\n\\nReliance - Specifications , Amazon - Product information , Croma - Specifications , Snapdeal - Other Specifications  , Flipkart - Specifications</th>\n",
       "    </tr>\n",
       "  </thead>\n",
       "  <tbody>\n",
       "    <tr>\n",
       "      <th>0</th>\n",
       "      <td>0</td>\n",
       "      <td>croma</td>\n",
       "      <td>E- commerce website</td>\n",
       "      <td>tabular_florescent_lamps</td>\n",
       "      <td>HIFFIN</td>\n",
       "      <td>...</td>\n",
       "      <td>NaN</td>\n",
       "      <td>No</td>\n",
       "      <td>NaN</td>\n",
       "      <td>No</td>\n",
       "      <td>NaN</td>\n",
       "    </tr>\n",
       "    <tr>\n",
       "      <th>1</th>\n",
       "      <td>1</td>\n",
       "      <td>croma</td>\n",
       "      <td>E- commerce website</td>\n",
       "      <td>tabular_florescent_lamps</td>\n",
       "      <td>Digitek</td>\n",
       "      <td>...</td>\n",
       "      <td>NaN</td>\n",
       "      <td>No</td>\n",
       "      <td>NaN</td>\n",
       "      <td>No</td>\n",
       "      <td>NaN</td>\n",
       "    </tr>\n",
       "  </tbody>\n",
       "</table>\n",
       "<p>2 rows × 34 columns</p>\n",
       "</div>"
      ],
      "text/plain": [
       "   Sno Website         Website type                 Appliance    Brand  ...  \\\n",
       "0    0   croma  E- commerce website  tabular_florescent_lamps   HIFFIN  ...   \n",
       "1    1   croma  E- commerce website  tabular_florescent_lamps  Digitek  ...   \n",
       "\n",
       "  What is the EE parameter mentioned in the Product Description or About or Overview section in the product page?\\n\\nReliance - Description , Amazon - From The manufacturer , Croma - Overview , Snapdeal - Description , Flipkart - Product Description   \\\n",
       "0                                                NaN                                                                                                                                                                                                         \n",
       "1                                                NaN                                                                                                                                                                                                         \n",
       "\n",
       "  Is Star Rating provided in the Product Information table?\\n(Yes/No)\\n\\nReliance - Specifications , Amazon - Product information , Croma - Specifications , Snapdeal - Other Specifications  , Flipkart - Specifications  \\\n",
       "0                                                 No                                                                                                                                                                        \n",
       "1                                                 No                                                                                                                                                                        \n",
       "\n",
       "   What is the Star Rating provided in the Product Information table?\\n\\nReliance - Specifications , Amazon - Product information , Croma - Specifications , Snapdeal - Other Specifications  , Flipkart - Specifications  \\\n",
       "0                                                NaN                                                                                                                                                                        \n",
       "1                                                NaN                                                                                                                                                                        \n",
       "\n",
       "   Is EE parameter and its value mentioned in the Product Information table?\\n(Yes/No)\\n\\nReliance - Specifications , Amazon - Product information , Croma - Specifications , Snapdeal - Other Specifications  , Flipkart - Specifications  \\\n",
       "0                                                 No                                                                                                                                                                                         \n",
       "1                                                 No                                                                                                                                                                                         \n",
       "\n",
       "   What is the EE parameter and its value mentioned in the Product Information table?\\n\\nReliance - Specifications , Amazon - Product information , Croma - Specifications , Snapdeal - Other Specifications  , Flipkart - Specifications  \n",
       "0                                                NaN                                                                                                                                                                                       \n",
       "1                                                NaN                                                                                                                                                                                       \n",
       "\n",
       "[2 rows x 34 columns]"
      ]
     },
     "execution_count": 7,
     "metadata": {},
     "output_type": "execute_result"
    }
   ],
   "source": [
    "data.head(2)"
   ]
  },
  {
   "cell_type": "code",
   "execution_count": 8,
   "metadata": {},
   "outputs": [],
   "source": [
    "data['image_to_bee_label_threshold'] = ['NA' for _ in range(data.shape[0])]"
   ]
  },
  {
   "cell_type": "code",
   "execution_count": 14,
   "metadata": {},
   "outputs": [
    {
     "name": "stderr",
     "output_type": "stream",
     "text": [
      "Using CPU. Note: This module is much faster with a GPU.\n",
      "100%|██████████| 273/273 [16:01<00:00,  3.52s/it] \n"
     ]
    }
   ],
   "source": [
    "ocr = BEEStarLabelOCR()\n",
    "\n",
    "for data_point in tqdm(data_points):\n",
    "    try:\n",
    "        point = int(data_point.split('/')[-1])\n",
    "        images = glob(data_point + '/*')\n",
    "        \n",
    "        bee_count = 0\n",
    "        all_image_report = []\n",
    "        readable = 'No'\n",
    "        for img in images:\n",
    "            is_bee = detect_bee_image(img)\n",
    "            if is_bee:\n",
    "                bee_count += 1\n",
    "                report_ocr, area = ocr.run_ocr(img, \"AC\")\n",
    "                if report_ocr == None:\n",
    "                    continue\n",
    "                else:\n",
    "                    all_image_report.append((report_ocr, area))\n",
    "        \n",
    "        if bee_count > 0:\n",
    "            # print(point)\n",
    "            if len(all_image_report) > 0:\n",
    "                report_ocr, area = sorted(all_image_report, key = lambda x: x[1], reverse = True)[0]\n",
    "                data['image_to_bee_label_threshold'][point] = round(area, 2)\n",
    "                if area > 20:\n",
    "                    readable = 'Yes'\n",
    "                    data['Does the product page contain any “Picture of BEE Star Label” as one of the pictures available for the appliance model?\\n(Yes/No)'][point] = 'Yes'\n",
    "                    data['How many pictures of BEE Star Label are shown for appliance model on the product page?'][point] = bee_count\n",
    "                    data['Is the information displayed on the “Picture of BEE Star Label” readable?\\n\\n(Yes/No)'][point] = readable\n",
    "                    data['a)\\xa0\\xa0\\xa0\\xa0 ISEER'][point] = report_ocr['iseer']\n",
    "                    data['b)\\xa0\\xa0\\xa0\\xa0 Label period'][point] = report_ocr['label_period']\n",
    "                    data['c)\\xa0\\xa0\\xa0\\xa0 Appliance/Type'][point] = report_ocr['appliance_type']\n",
    "                    data['d)\\xa0\\xa0\\xa0\\xa0 Model/Year'][point] = report_ocr['model_year']\n",
    "                    data['e)\\xa0\\xa0\\xa0\\xa0 Cooling Capacity (100%)'][point] = report_ocr['cooling_100']\n",
    "                    data['f)\\xa0\\xa0\\xa0\\xa0\\xa0 Cooling Capacity (50%)'][point] = report_ocr['cooling_50']\n",
    "                    data['g)\\xa0\\xa0\\xa0\\xa0 Electricity consumption'][point] = report_ocr['electricity_consumption']\n",
    "                    data['h)\\xa0\\xa0\\xa0\\xa0 Compressor Type'][point] = report_ocr['compressor']    \n",
    "                    data['i)\\xa0\\xa0\\xa0\\xa0\\xa0\\xa0 Heat Pump'][point] = report_ocr['heat_pump']\n",
    "\n",
    "                    # data['a)\\xa0\\xa0\\xa0\\xa0 Electricity Consumption (units per year)'][point] = report_ocr['electricity_consumption']\n",
    "                    # data['b)\\xa0\\xa0\\xa0\\xa0 Label period'][point] = report_ocr['label_period']\n",
    "                    # data['c)\\xa0\\xa0\\xa0\\xa0 Appliance'][point] = report_ocr['appliance_type']\n",
    "                    # data['d)\\xa0\\xa0\\xa0\\xa0 Brand'][point] = report_ocr['brand']\n",
    "                    # data['e)\\xa0\\xa0\\xa0\\xa0 Model Number/Name'][point] = report_ocr['model_year']\n",
    "                    # data['f)\\xa0\\xa0\\xa0\\xa0\\xa0 Type '][point] = report_ocr['type']\n",
    "                    # data['g)\\xa0\\xa0\\xa0\\xa0 Total Volume (litre)'][point] = report_ocr['total_volume']\n",
    "                else:\n",
    "                    data['Does the product page contain any “Picture of BEE Star Label” as one of the pictures available for the appliance model?\\n(Yes/No)'][point] = 'Yes'\n",
    "                    data['How many pictures of BEE Star Label are shown for appliance model on the product page?'][point] = bee_count\n",
    "                    data['Is the information displayed on the “Picture of BEE Star Label” readable?\\n\\n(Yes/No)'][point] = readable\n",
    "            else:\n",
    "                data['image_to_bee_label_threshold'][point] = 'not detectable (too small size)'\n",
    "                data['Does the product page contain any “Picture of BEE Star Label” as one of the pictures available for the appliance model?\\n(Yes/No)'][point] = 'Yes'\n",
    "                data['How many pictures of BEE Star Label are shown for appliance model on the product page?'][point] = bee_count\n",
    "                data['Is the information displayed on the “Picture of BEE Star Label” readable?\\n\\n(Yes/No)'][point] = readable\n",
    "        else:\n",
    "            data['Does the product page contain any “Picture of BEE Star Label” as one of the pictures available for the appliance model?\\n(Yes/No)'][point] = 'No'\n",
    "            data['How many pictures of BEE Star Label are shown for appliance model on the product page?'][point] = 0\n",
    "            data['Is the information displayed on the “Picture of BEE Star Label” readable?\\n\\n(Yes/No)'][point] = 'No'\n",
    "\n",
    "        data['Is Star Rating mentioned in the Product Description or About or Overview section in the product page?\\n(Yes/No)\\n\\nReliance - Description , Amazon - From The manufacturer , Croma - Overview , Snapdeal - Description , Flipkart - Product Description '][point] = 'No'\n",
    "        data['What is the Star Rating mentioned in the Product Description or About or Overview section in the product page?\\n\\nReliance - Description , Amazon - From The manufacturer , Croma - Overview , Snapdeal - Description , Flipkart - Product Description '][point] = 'NA'\n",
    "        data['Is EE parameter mentioned in the Product Description or About or Overview section in the product page?\\n(Yes/No)\\n\\nReliance - Description , Amazon - From The manufacturer , Croma - Overview , Snapdeal - Description , Flipkart - Product Description '][point] = 'No'\n",
    "        data['What is the EE parameter mentioned in the Product Description or About or Overview section in the product page?\\n\\nReliance - Description , Amazon - From The manufacturer , Croma - Overview , Snapdeal - Description , Flipkart - Product Description '][point] = 'NA'\n",
    "\n",
    "    except Exception as e:\n",
    "        print(str(e))\n",
    "\n",
    "data = data.fillna('NA')\n",
    "data.to_csv('test_reports/air_conditioner_vs.csv')"
   ]
  },
  {
   "cell_type": "code",
   "execution_count": 15,
   "metadata": {},
   "outputs": [
    {
     "data": {
      "text/html": [
       "<div>\n",
       "<style scoped>\n",
       "    .dataframe tbody tr th:only-of-type {\n",
       "        vertical-align: middle;\n",
       "    }\n",
       "\n",
       "    .dataframe tbody tr th {\n",
       "        vertical-align: top;\n",
       "    }\n",
       "\n",
       "    .dataframe thead th {\n",
       "        text-align: right;\n",
       "    }\n",
       "</style>\n",
       "<table border=\"1\" class=\"dataframe\">\n",
       "  <thead>\n",
       "    <tr style=\"text-align: right;\">\n",
       "      <th></th>\n",
       "      <th>Web Link of product page</th>\n",
       "      <th>Does the product page contain any “Picture of BEE Star Label” as one of the pictures available for the appliance model?\\n(Yes/No)</th>\n",
       "      <th>How many pictures of BEE Star Label are shown for appliance model on the product page?</th>\n",
       "      <th>Is the information displayed on the “Picture of BEE Star Label” readable?\\n\\n(Yes/No)</th>\n",
       "      <th>a)     Electricity Consumption (units per year)</th>\n",
       "      <th>b)     Label period</th>\n",
       "      <th>c)     Appliance</th>\n",
       "      <th>d)     Brand</th>\n",
       "      <th>e)     Model Number/Name</th>\n",
       "    </tr>\n",
       "  </thead>\n",
       "  <tbody>\n",
       "    <tr>\n",
       "      <th>0</th>\n",
       "      <td>https://www.croma.com/croma-165-litres-2-star-...</td>\n",
       "      <td>Yes</td>\n",
       "      <td>3.0</td>\n",
       "      <td>Yes</td>\n",
       "      <td>194\"</td>\n",
       "      <td>NA</td>\n",
       "      <td>NA</td>\n",
       "      <td>NA</td>\n",
       "      <td>NA</td>\n",
       "    </tr>\n",
       "    <tr>\n",
       "      <th>1</th>\n",
       "      <td>https://www.croma.com/croma-50-litres-2-star-d...</td>\n",
       "      <td>Yes</td>\n",
       "      <td>4.0</td>\n",
       "      <td>No</td>\n",
       "      <td>NA</td>\n",
       "      <td>NA</td>\n",
       "      <td>NA</td>\n",
       "      <td>NA</td>\n",
       "      <td>NA</td>\n",
       "    </tr>\n",
       "    <tr>\n",
       "      <th>2</th>\n",
       "      <td>https://www.croma.com/croma-185-litres-2-star-...</td>\n",
       "      <td>Yes</td>\n",
       "      <td>3.0</td>\n",
       "      <td>Yes</td>\n",
       "      <td>NA</td>\n",
       "      <td>NA</td>\n",
       "      <td>NA</td>\n",
       "      <td>NA</td>\n",
       "      <td>NA</td>\n",
       "    </tr>\n",
       "    <tr>\n",
       "      <th>3</th>\n",
       "      <td>https://www.croma.com/candy-225-liters-2-star-...</td>\n",
       "      <td>No</td>\n",
       "      <td>0.0</td>\n",
       "      <td>No</td>\n",
       "      <td>NA</td>\n",
       "      <td>NA</td>\n",
       "      <td>NA</td>\n",
       "      <td>NA</td>\n",
       "      <td>NA</td>\n",
       "    </tr>\n",
       "    <tr>\n",
       "      <th>4</th>\n",
       "      <td>https://www.croma.com/haier-185-litres-2-star-...</td>\n",
       "      <td>Yes</td>\n",
       "      <td>1.0</td>\n",
       "      <td>No</td>\n",
       "      <td>NA</td>\n",
       "      <td>NA</td>\n",
       "      <td>NA</td>\n",
       "      <td>NA</td>\n",
       "      <td>NA</td>\n",
       "    </tr>\n",
       "  </tbody>\n",
       "</table>\n",
       "</div>"
      ],
      "text/plain": [
       "                            Web Link of product page  \\\n",
       "0  https://www.croma.com/croma-165-litres-2-star-...   \n",
       "1  https://www.croma.com/croma-50-litres-2-star-d...   \n",
       "2  https://www.croma.com/croma-185-litres-2-star-...   \n",
       "3  https://www.croma.com/candy-225-liters-2-star-...   \n",
       "4  https://www.croma.com/haier-185-litres-2-star-...   \n",
       "\n",
       "  Does the product page contain any “Picture of BEE Star Label” as one of the pictures available for the appliance model?\\n(Yes/No)  \\\n",
       "0                                                Yes                                                                                  \n",
       "1                                                Yes                                                                                  \n",
       "2                                                Yes                                                                                  \n",
       "3                                                 No                                                                                  \n",
       "4                                                Yes                                                                                  \n",
       "\n",
       "   How many pictures of BEE Star Label are shown for appliance model on the product page?  \\\n",
       "0                                                3.0                                        \n",
       "1                                                4.0                                        \n",
       "2                                                3.0                                        \n",
       "3                                                0.0                                        \n",
       "4                                                1.0                                        \n",
       "\n",
       "  Is the information displayed on the “Picture of BEE Star Label” readable?\\n\\n(Yes/No)  \\\n",
       "0                                                Yes                                      \n",
       "1                                                 No                                      \n",
       "2                                                Yes                                      \n",
       "3                                                 No                                      \n",
       "4                                                 No                                      \n",
       "\n",
       "  a)     Electricity Consumption (units per year) b)     Label period  \\\n",
       "0                                            194\"                  NA   \n",
       "1                                              NA                  NA   \n",
       "2                                              NA                  NA   \n",
       "3                                              NA                  NA   \n",
       "4                                              NA                  NA   \n",
       "\n",
       "  c)     Appliance d)     Brand e)     Model Number/Name  \n",
       "0               NA           NA                       NA  \n",
       "1               NA           NA                       NA  \n",
       "2               NA           NA                       NA  \n",
       "3               NA           NA                       NA  \n",
       "4               NA           NA                       NA  "
      ]
     },
     "execution_count": 15,
     "metadata": {},
     "output_type": "execute_result"
    }
   ],
   "source": [
    "data.iloc[:5, 6:15]"
   ]
  },
  {
   "cell_type": "code",
   "execution_count": 16,
   "metadata": {},
   "outputs": [],
   "source": [
    "data.to_csv('test_reports/refrigerator_direct_cool2.csv')"
   ]
  },
  {
   "cell_type": "code",
   "execution_count": 9,
   "metadata": {},
   "outputs": [
    {
     "name": "stderr",
     "output_type": "stream",
     "text": [
      "100%|██████████| 12/12 [00:04<00:00,  2.94it/s]\n"
     ]
    }
   ],
   "source": [
    "for data_point in tqdm(data_points):\n",
    "    point = int(data_point.split('/')[-1])\n",
    "    images = glob(data_point + '/*')\n",
    "    \n",
    "    bee_count = 0\n",
    "    for img in images:\n",
    "        try:\n",
    "            is_bee = detect_bee_image(img)\n",
    "        except:\n",
    "            is_bee = False\n",
    "        if is_bee:\n",
    "            bee_count += 1\n",
    "\n",
    "    if bee_count > 0:\n",
    "        data['Does the product page contain any “Picture of BEE Star Label” as one of the pictures available for the appliance model?\\n(Yes/No)'][point] = 'Yes'\n",
    "        data['How many pictures of BEE Star Label are shown for appliance model on the product page?'][point] = bee_count\n",
    "        data['Is the information displayed on the “Picture of BEE Star Label” readable?\\n\\n(Yes/No)'][point] = 'No'\n",
    "    else:\n",
    "        data['Does the product page contain any “Picture of BEE Star Label” as one of the pictures available for the appliance model?\\n(Yes/No)'][point] = 'No'\n",
    "        data['How many pictures of BEE Star Label are shown for appliance model on the product page?'][point] = bee_count\n",
    "        data['Is the information displayed on the “Picture of BEE Star Label” readable?\\n\\n(Yes/No)'][point] = 'No'\n"
   ]
  },
  {
   "cell_type": "code",
   "execution_count": 25,
   "metadata": {},
   "outputs": [
    {
     "data": {
      "text/plain": [
       "(600, 35)"
      ]
     },
     "execution_count": 25,
     "metadata": {},
     "output_type": "execute_result"
    }
   ],
   "source": [
    "data.shape"
   ]
  },
  {
   "cell_type": "code",
   "execution_count": 25,
   "metadata": {},
   "outputs": [],
   "source": [
    "\n",
    "data = data.fillna('NA')\n",
    "data.to_csv('test_reports/tfl_report.csv')"
   ]
  },
  {
   "cell_type": "code",
   "execution_count": 12,
   "metadata": {},
   "outputs": [
    {
     "name": "stdout",
     "output_type": "stream",
     "text": [
      "         xmin        ymin         xmax         ymax  confidence  class  \\\n",
      "0  809.358765  226.852722  1467.440063  1478.105713    0.616284      0   \n",
      "1  380.046722  864.392029   542.029480  1164.708496    0.615953      0   \n",
      "\n",
      "       name  \n",
      "0  bee_star  \n",
      "1  bee_star  \n",
      "         xmin        ymin         xmax         ymax  confidence  class  name\n",
      "0  378.350677  864.076965   544.268982  1009.937805    0.484402      0  star\n",
      "1  814.452942  251.303162  1467.279419   848.704468    0.167733      0  star\n"
     ]
    },
    {
     "data": {
      "text/plain": [
       "True"
      ]
     },
     "execution_count": 12,
     "metadata": {},
     "output_type": "execute_result"
    }
   ],
   "source": [
    "detect_bee_image(reports_path + 'Ac_variable_speed/amazon/images/213/3.png')"
   ]
  },
  {
   "cell_type": "code",
   "execution_count": 3,
   "metadata": {},
   "outputs": [
    {
     "name": "stderr",
     "output_type": "stream",
     "text": [
      "Using CPU. Note: This module is much faster with a GPU.\n"
     ]
    }
   ],
   "source": [
    "ocr = BEEStarLabelOCR()"
   ]
  },
  {
   "cell_type": "code",
   "execution_count": 14,
   "metadata": {},
   "outputs": [
    {
     "name": "stdout",
     "output_type": "stream",
     "text": [
      "({'iseer': '3.96*', 'label_period': None, 'appliance_type': None, 'model_year': None, 'cooling_100': None, 'cooling_50': None, 'electricity_consumption': None, 'compressor': None, 'heat_pump': 'No'}, 9.0)\n"
     ]
    }
   ],
   "source": [
    "print(ocr.run_ocr(reports_path + 'Ac_variable_speed/amazon/images/213/3.png', \"AC\"))"
   ]
  },
  {
   "cell_type": "code",
   "execution_count": null,
   "metadata": {},
   "outputs": [],
   "source": []
  },
  {
   "cell_type": "code",
   "execution_count": 12,
   "metadata": {},
   "outputs": [
    {
     "data": {
      "text/plain": [
       "array([[307, 'Amazon', 'E- commerce website', 'Air Conditioner', 'LG', 'RS-Q19ENZE', 'https://www.amazon.in//LG-Convertible-Anti-Virus-Protection-RS-Q19ENZE/dp/B0C593V9JF/ref=sr_1_288?crid=3F7OTI1W11SOG&keywords=Air+Conditioners+Inverter&qid=1685191620&sprefix=%2Caps%2C533&sr=8-288', 'Yes', 1, 'Yes', '5.20',\n",
       "        'iat july 2022 to 31st Dec 2024', 'RACISplit', 'RS-QI9ENZEI2023', None, None, None, 'Variable Specd', 'No', 'Yes', 5.0, 'No', 'Yes', 5.0, 'Yes', 5.2, 'pending', 'pending', 'pending', 'pending', 'No', nan, 'No', nan]], dtype=object)"
      ]
     },
     "execution_count": 12,
     "metadata": {},
     "output_type": "execute_result"
    }
   ],
   "source": [
    "data.iloc[[307]].values"
   ]
  },
  {
   "cell_type": "code",
   "execution_count": 24,
   "metadata": {},
   "outputs": [
    {
     "data": {
      "text/plain": [
       "'a)\\xa0\\xa0\\xa0\\xa0 Electricity Consumption (units per year)'"
      ]
     },
     "execution_count": 24,
     "metadata": {},
     "output_type": "execute_result"
    }
   ],
   "source": [
    "data.columns[10]"
   ]
  },
  {
   "cell_type": "code",
   "execution_count": null,
   "metadata": {},
   "outputs": [],
   "source": [
    "data['Is the information displayed on the “Picture of BEE Star Label” readable?\\n\\n(Yes/No)'][point]\n",
    "data['b)\\xa0\\xa0\\xa0\\xa0 Label period'][point]\n",
    "data['c)\\xa0\\xa0\\xa0\\xa0 Appliance'][point]\n",
    "data['d)\\xa0\\xa0\\xa0\\xa0 Brand'][point]\n",
    "data['e)\\xa0\\xa0\\xa0\\xa0 Model Number/Name'][point]\n",
    "data['f)\\xa0\\xa0\\xa0\\xa0\\xa0 Type '][point]\n",
    "data['g)\\xa0\\xa0\\xa0\\xa0 Total Volume (litre)'][point]"
   ]
  },
  {
   "cell_type": "code",
   "execution_count": null,
   "metadata": {},
   "outputs": [],
   "source": []
  },
  {
   "cell_type": "code",
   "execution_count": 34,
   "metadata": {},
   "outputs": [
    {
     "data": {
      "text/plain": [
       "nan"
      ]
     },
     "execution_count": 34,
     "metadata": {},
     "output_type": "execute_result"
    }
   ],
   "source": []
  },
  {
   "cell_type": "code",
   "execution_count": null,
   "metadata": {},
   "outputs": [],
   "source": []
  },
  {
   "cell_type": "code",
   "execution_count": null,
   "metadata": {},
   "outputs": [],
   "source": []
  }
 ],
 "metadata": {
  "kernelspec": {
   "display_name": "Python 3",
   "language": "python",
   "name": "python3"
  },
  "language_info": {
   "codemirror_mode": {
    "name": "ipython",
    "version": 3
   },
   "file_extension": ".py",
   "mimetype": "text/x-python",
   "name": "python",
   "nbconvert_exporter": "python",
   "pygments_lexer": "ipython3",
   "version": "3.8.16"
  },
  "orig_nbformat": 4
 },
 "nbformat": 4,
 "nbformat_minor": 2
}
